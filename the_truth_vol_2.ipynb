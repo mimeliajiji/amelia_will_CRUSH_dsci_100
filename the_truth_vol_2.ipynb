{
 "cells": [
  {
   "cell_type": "markdown",
   "id": "1e4355de-f491-42c3-85ad-05b6e284f7ea",
   "metadata": {},
   "source": [
    "yooooooooooooooo "
   ]
  },
  {
   "cell_type": "code",
   "execution_count": null,
   "id": "febfa318-15d0-42f2-aaa4-e993cf4a810d",
   "metadata": {},
   "outputs": [],
   "source": []
  }
 ],
 "metadata": {
  "kernelspec": {
   "display_name": "Python 3 (ipykernel)",
   "language": "python",
   "name": "python3"
  },
  "language_info": {
   "codemirror_mode": {
    "name": "ipython",
    "version": 3
   },
   "file_extension": ".py",
   "mimetype": "text/x-python",
   "name": "python",
   "nbconvert_exporter": "python",
   "pygments_lexer": "ipython3",
   "version": "3.11.9"
  }
 },
 "nbformat": 4,
 "nbformat_minor": 5
}
